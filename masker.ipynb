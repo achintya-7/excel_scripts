{
 "cells": [
  {
   "cell_type": "code",
   "execution_count": 26,
   "metadata": {},
   "outputs": [],
   "source": [
    "import pandas as pd"
   ]
  },
  {
   "cell_type": "code",
   "execution_count": 27,
   "metadata": {},
   "outputs": [
    {
     "data": {
      "text/html": [
       "<div>\n",
       "<style scoped>\n",
       "    .dataframe tbody tr th:only-of-type {\n",
       "        vertical-align: middle;\n",
       "    }\n",
       "\n",
       "    .dataframe tbody tr th {\n",
       "        vertical-align: top;\n",
       "    }\n",
       "\n",
       "    .dataframe thead th {\n",
       "        text-align: right;\n",
       "    }\n",
       "</style>\n",
       "<table border=\"1\" class=\"dataframe\">\n",
       "  <thead>\n",
       "    <tr style=\"text-align: right;\">\n",
       "      <th></th>\n",
       "      <th>S.NO.</th>\n",
       "      <th>ADM. NO.</th>\n",
       "      <th>STUDENT NAME</th>\n",
       "      <th>MARKS</th>\n",
       "      <th>Unnamed: 4</th>\n",
       "    </tr>\n",
       "  </thead>\n",
       "  <tbody>\n",
       "    <tr>\n",
       "      <th>0</th>\n",
       "      <td>1</td>\n",
       "      <td>2476</td>\n",
       "      <td>Aashna Parmar</td>\n",
       "      <td>49.5</td>\n",
       "      <td>A</td>\n",
       "    </tr>\n",
       "    <tr>\n",
       "      <th>1</th>\n",
       "      <td>2</td>\n",
       "      <td>2540</td>\n",
       "      <td>Aditya Choudhary</td>\n",
       "      <td>ab</td>\n",
       "      <td>A</td>\n",
       "    </tr>\n",
       "    <tr>\n",
       "      <th>2</th>\n",
       "      <td>3</td>\n",
       "      <td>2684</td>\n",
       "      <td>Aditya Manhas</td>\n",
       "      <td>49</td>\n",
       "      <td>A</td>\n",
       "    </tr>\n",
       "    <tr>\n",
       "      <th>3</th>\n",
       "      <td>4</td>\n",
       "      <td>2579</td>\n",
       "      <td>Aditya Singh</td>\n",
       "      <td>49.5</td>\n",
       "      <td>A</td>\n",
       "    </tr>\n",
       "    <tr>\n",
       "      <th>4</th>\n",
       "      <td>5</td>\n",
       "      <td>3808</td>\n",
       "      <td>Aditya Singh</td>\n",
       "      <td>48.5</td>\n",
       "      <td>A</td>\n",
       "    </tr>\n",
       "  </tbody>\n",
       "</table>\n",
       "</div>"
      ],
      "text/plain": [
       "   S.NO.  ADM. NO.      STUDENT NAME MARKS Unnamed: 4\n",
       "0      1      2476     Aashna Parmar  49.5          A\n",
       "1      2      2540  Aditya Choudhary    ab          A\n",
       "2      3      2684     Aditya Manhas    49          A\n",
       "3      4      2579      Aditya Singh  49.5          A\n",
       "4      5      3808      Aditya Singh  48.5          A"
      ]
     },
     "execution_count": 27,
     "metadata": {},
     "output_type": "execute_result"
    }
   ],
   "source": [
    "df = pd.read_excel('BOARD 10 AWARD LIST CLASS X 2022-23.xlsx', sheet_name='XB3')\n",
    "df.head()"
   ]
  },
  {
   "cell_type": "code",
   "execution_count": 28,
   "metadata": {},
   "outputs": [
    {
     "name": "stdout",
     "output_type": "stream",
     "text": [
      "40\n"
     ]
    }
   ],
   "source": [
    "name_list = df['STUDENT NAME'].tolist()\n",
    "print(len(name_list))"
   ]
  },
  {
   "cell_type": "code",
   "execution_count": 44,
   "metadata": {},
   "outputs": [],
   "source": [
    "capitalized_name_list = [name.upper() for name in name_list]"
   ]
  },
  {
   "cell_type": "code",
   "execution_count": 45,
   "metadata": {},
   "outputs": [
    {
     "data": {
      "text/html": [
       "<div>\n",
       "<style scoped>\n",
       "    .dataframe tbody tr th:only-of-type {\n",
       "        vertical-align: middle;\n",
       "    }\n",
       "\n",
       "    .dataframe tbody tr th {\n",
       "        vertical-align: top;\n",
       "    }\n",
       "\n",
       "    .dataframe thead th {\n",
       "        text-align: right;\n",
       "    }\n",
       "</style>\n",
       "<table border=\"1\" class=\"dataframe\">\n",
       "  <thead>\n",
       "    <tr style=\"text-align: right;\">\n",
       "      <th></th>\n",
       "      <th>S.No.</th>\n",
       "      <th>Roll No.</th>\n",
       "      <th>Student Name</th>\n",
       "      <th>Gender</th>\n",
       "      <th>PAINTING</th>\n",
       "      <th>Unnamed: 5</th>\n",
       "      <th>COMM. SANSKRIT</th>\n",
       "      <th>Unnamed: 7</th>\n",
       "      <th>FRENCH</th>\n",
       "      <th>Unnamed: 9</th>\n",
       "      <th>...</th>\n",
       "      <th>Unnamed: 19</th>\n",
       "      <th>INFO TECHNOLOGY(O)</th>\n",
       "      <th>Unnamed: 21</th>\n",
       "      <th>MATHEMATICS</th>\n",
       "      <th>Unnamed: 23</th>\n",
       "      <th>Total Marks</th>\n",
       "      <th>Over All %</th>\n",
       "      <th>Best Five Total Marks</th>\n",
       "      <th>Best Five Marks %</th>\n",
       "      <th>Result</th>\n",
       "    </tr>\n",
       "  </thead>\n",
       "  <tbody>\n",
       "    <tr>\n",
       "      <th>0</th>\n",
       "      <td>1</td>\n",
       "      <td>21191208</td>\n",
       "      <td>ARYAN TIWARI</td>\n",
       "      <td>Male</td>\n",
       "      <td>NaN</td>\n",
       "      <td>NaN</td>\n",
       "      <td>NaN</td>\n",
       "      <td>NaN</td>\n",
       "      <td>NaN</td>\n",
       "      <td>NaN</td>\n",
       "      <td>...</td>\n",
       "      <td>NaN</td>\n",
       "      <td>99</td>\n",
       "      <td>A1</td>\n",
       "      <td>90.0</td>\n",
       "      <td>A2</td>\n",
       "      <td>520</td>\n",
       "      <td>0.8667</td>\n",
       "      <td>443</td>\n",
       "      <td>0.886</td>\n",
       "      <td>PASS</td>\n",
       "    </tr>\n",
       "    <tr>\n",
       "      <th>1</th>\n",
       "      <td>2</td>\n",
       "      <td>21191209</td>\n",
       "      <td>AYUSH SHARMA</td>\n",
       "      <td>Male</td>\n",
       "      <td>NaN</td>\n",
       "      <td>NaN</td>\n",
       "      <td>NaN</td>\n",
       "      <td>NaN</td>\n",
       "      <td>NaN</td>\n",
       "      <td>NaN</td>\n",
       "      <td>...</td>\n",
       "      <td>NaN</td>\n",
       "      <td>97</td>\n",
       "      <td>A1</td>\n",
       "      <td>67.0</td>\n",
       "      <td>B2</td>\n",
       "      <td>444</td>\n",
       "      <td>0.7400</td>\n",
       "      <td>379</td>\n",
       "      <td>0.758</td>\n",
       "      <td>PASS</td>\n",
       "    </tr>\n",
       "    <tr>\n",
       "      <th>2</th>\n",
       "      <td>3</td>\n",
       "      <td>21191206</td>\n",
       "      <td>ANSHUMAN SIROHI</td>\n",
       "      <td>Male</td>\n",
       "      <td>NaN</td>\n",
       "      <td>NaN</td>\n",
       "      <td>NaN</td>\n",
       "      <td>NaN</td>\n",
       "      <td>NaN</td>\n",
       "      <td>NaN</td>\n",
       "      <td>...</td>\n",
       "      <td>NaN</td>\n",
       "      <td>68</td>\n",
       "      <td>D1</td>\n",
       "      <td>47.0</td>\n",
       "      <td>C2</td>\n",
       "      <td>342</td>\n",
       "      <td>0.5700</td>\n",
       "      <td>299</td>\n",
       "      <td>0.598</td>\n",
       "      <td>PASS</td>\n",
       "    </tr>\n",
       "    <tr>\n",
       "      <th>3</th>\n",
       "      <td>4</td>\n",
       "      <td>21191207</td>\n",
       "      <td>ARYAN PARASHAR</td>\n",
       "      <td>Male</td>\n",
       "      <td>NaN</td>\n",
       "      <td>NaN</td>\n",
       "      <td>NaN</td>\n",
       "      <td>NaN</td>\n",
       "      <td>NaN</td>\n",
       "      <td>NaN</td>\n",
       "      <td>...</td>\n",
       "      <td>B2</td>\n",
       "      <td>97</td>\n",
       "      <td>A1</td>\n",
       "      <td>NaN</td>\n",
       "      <td>NaN</td>\n",
       "      <td>470</td>\n",
       "      <td>0.7833</td>\n",
       "      <td>419</td>\n",
       "      <td>0.838</td>\n",
       "      <td>PASS</td>\n",
       "    </tr>\n",
       "    <tr>\n",
       "      <th>4</th>\n",
       "      <td>5</td>\n",
       "      <td>21191212</td>\n",
       "      <td>CHAITALI CHAUDHARY</td>\n",
       "      <td>Female</td>\n",
       "      <td>NaN</td>\n",
       "      <td>NaN</td>\n",
       "      <td>NaN</td>\n",
       "      <td>NaN</td>\n",
       "      <td>NaN</td>\n",
       "      <td>NaN</td>\n",
       "      <td>...</td>\n",
       "      <td>B1</td>\n",
       "      <td>97</td>\n",
       "      <td>A1</td>\n",
       "      <td>NaN</td>\n",
       "      <td>NaN</td>\n",
       "      <td>462</td>\n",
       "      <td>0.7700</td>\n",
       "      <td>406</td>\n",
       "      <td>0.812</td>\n",
       "      <td>PASS</td>\n",
       "    </tr>\n",
       "  </tbody>\n",
       "</table>\n",
       "<p>5 rows × 29 columns</p>\n",
       "</div>"
      ],
      "text/plain": [
       "   S.No.  Roll No.        Student Name  Gender  PAINTING Unnamed: 5   \n",
       "0      1  21191208        ARYAN TIWARI    Male       NaN        NaN  \\\n",
       "1      2  21191209        AYUSH SHARMA    Male       NaN        NaN   \n",
       "2      3  21191206     ANSHUMAN SIROHI    Male       NaN        NaN   \n",
       "3      4  21191207      ARYAN PARASHAR    Male       NaN        NaN   \n",
       "4      5  21191212  CHAITALI CHAUDHARY  Female       NaN        NaN   \n",
       "\n",
       "   COMM. SANSKRIT Unnamed: 7  FRENCH Unnamed: 9  ...  Unnamed: 19   \n",
       "0             NaN        NaN     NaN        NaN  ...          NaN  \\\n",
       "1             NaN        NaN     NaN        NaN  ...          NaN   \n",
       "2             NaN        NaN     NaN        NaN  ...          NaN   \n",
       "3             NaN        NaN     NaN        NaN  ...           B2   \n",
       "4             NaN        NaN     NaN        NaN  ...           B1   \n",
       "\n",
       "  INFO TECHNOLOGY(O)  Unnamed: 21 MATHEMATICS  Unnamed: 23 Total Marks   \n",
       "0                 99           A1        90.0           A2         520  \\\n",
       "1                 97           A1        67.0           B2         444   \n",
       "2                 68           D1        47.0           C2         342   \n",
       "3                 97           A1         NaN          NaN         470   \n",
       "4                 97           A1         NaN          NaN         462   \n",
       "\n",
       "   Over All % Best Five Total Marks  Best Five Marks % Result  \n",
       "0      0.8667                   443              0.886   PASS  \n",
       "1      0.7400                   379              0.758   PASS  \n",
       "2      0.5700                   299              0.598   PASS  \n",
       "3      0.7833                   419              0.838   PASS  \n",
       "4      0.7700                   406              0.812   PASS  \n",
       "\n",
       "[5 rows x 29 columns]"
      ]
     },
     "execution_count": 45,
     "metadata": {},
     "output_type": "execute_result"
    }
   ],
   "source": [
    "exam = pd.read_excel('log_book.xlsx')\n",
    "exam = exam.reset_index(drop=True)\n",
    "exam.head()"
   ]
  },
  {
   "cell_type": "code",
   "execution_count": 46,
   "metadata": {},
   "outputs": [
    {
     "name": "stdout",
     "output_type": "stream",
     "text": [
      "['S.No.', 'Roll No.', 'Student Name', 'Gender', 'PAINTING', 'Unnamed: 5', 'COMM. SANSKRIT', 'Unnamed: 7', 'FRENCH', 'Unnamed: 9', 'HINDI COURSE-B', 'Unnamed: 11', 'SCIENCE-THEORY', 'Unnamed: 13', 'SOCIAL SCIENCE', 'Unnamed: 15', 'ENGLISH LNG & LIT.', 'Unnamed: 17', 'MATHEMATICS -BASIC', 'Unnamed: 19', 'INFO TECHNOLOGY(O)', 'Unnamed: 21', 'MATHEMATICS', 'Unnamed: 23', 'Total Marks', 'Over All %', 'Best Five Total Marks', 'Best Five Marks %', 'Result']\n"
     ]
    }
   ],
   "source": [
    "columns = exam.columns.tolist()\n",
    "print(columns)"
   ]
  },
  {
   "cell_type": "code",
   "execution_count": 47,
   "metadata": {},
   "outputs": [
    {
     "data": {
      "text/html": [
       "<div>\n",
       "<style scoped>\n",
       "    .dataframe tbody tr th:only-of-type {\n",
       "        vertical-align: middle;\n",
       "    }\n",
       "\n",
       "    .dataframe tbody tr th {\n",
       "        vertical-align: top;\n",
       "    }\n",
       "\n",
       "    .dataframe thead th {\n",
       "        text-align: right;\n",
       "    }\n",
       "</style>\n",
       "<table border=\"1\" class=\"dataframe\">\n",
       "  <thead>\n",
       "    <tr style=\"text-align: right;\">\n",
       "      <th></th>\n",
       "      <th>Student Name</th>\n",
       "      <th>SOCIAL SCIENCE</th>\n",
       "    </tr>\n",
       "  </thead>\n",
       "  <tbody>\n",
       "    <tr>\n",
       "      <th>109</th>\n",
       "      <td>AARAV VERMA</td>\n",
       "      <td>77</td>\n",
       "    </tr>\n",
       "    <tr>\n",
       "      <th>148</th>\n",
       "      <td>AARNAVI TRIPATHI</td>\n",
       "      <td>86</td>\n",
       "    </tr>\n",
       "    <tr>\n",
       "      <th>32</th>\n",
       "      <td>AASHNA PARMAR</td>\n",
       "      <td>94</td>\n",
       "    </tr>\n",
       "    <tr>\n",
       "      <th>69</th>\n",
       "      <td>AAYUSH CHOWDHARY</td>\n",
       "      <td>64</td>\n",
       "    </tr>\n",
       "    <tr>\n",
       "      <th>146</th>\n",
       "      <td>ABHIMANYU BISHT</td>\n",
       "      <td>98</td>\n",
       "    </tr>\n",
       "  </tbody>\n",
       "</table>\n",
       "</div>"
      ],
      "text/plain": [
       "         Student Name  SOCIAL SCIENCE\n",
       "109       AARAV VERMA              77\n",
       "148  AARNAVI TRIPATHI              86\n",
       "32      AASHNA PARMAR              94\n",
       "69   AAYUSH CHOWDHARY              64\n",
       "146   ABHIMANYU BISHT              98"
      ]
     },
     "execution_count": 47,
     "metadata": {},
     "output_type": "execute_result"
    }
   ],
   "source": [
    "final = exam.loc[:, ['Student Name', 'SOCIAL SCIENCE']]\n",
    "sorted_df = final.sort_values(by=['Student Name'])\n",
    "sorted_df.head()"
   ]
  },
  {
   "cell_type": "code",
   "execution_count": 53,
   "metadata": {},
   "outputs": [
    {
     "name": "stdout",
     "output_type": "stream",
     "text": [
      "189\n",
      "(189, 29)\n"
     ]
    }
   ],
   "source": [
    "print(len(sorted_df))"
   ]
  },
  {
   "cell_type": "code",
   "execution_count": 48,
   "metadata": {},
   "outputs": [
    {
     "name": "stdout",
     "output_type": "stream",
     "text": [
      "(189,)\n"
     ]
    },
    {
     "data": {
      "text/html": [
       "<div>\n",
       "<style scoped>\n",
       "    .dataframe tbody tr th:only-of-type {\n",
       "        vertical-align: middle;\n",
       "    }\n",
       "\n",
       "    .dataframe tbody tr th {\n",
       "        vertical-align: top;\n",
       "    }\n",
       "\n",
       "    .dataframe thead th {\n",
       "        text-align: right;\n",
       "    }\n",
       "</style>\n",
       "<table border=\"1\" class=\"dataframe\">\n",
       "  <thead>\n",
       "    <tr style=\"text-align: right;\">\n",
       "      <th></th>\n",
       "      <th>Student Name</th>\n",
       "      <th>SOCIAL SCIENCE</th>\n",
       "    </tr>\n",
       "  </thead>\n",
       "  <tbody>\n",
       "    <tr>\n",
       "      <th>32</th>\n",
       "      <td>AASHNA PARMAR</td>\n",
       "      <td>94</td>\n",
       "    </tr>\n",
       "    <tr>\n",
       "      <th>33</th>\n",
       "      <td>ADITYA CHOUDHARY</td>\n",
       "      <td>88</td>\n",
       "    </tr>\n",
       "    <tr>\n",
       "      <th>36</th>\n",
       "      <td>ADITYA SINGH</td>\n",
       "      <td>95</td>\n",
       "    </tr>\n",
       "    <tr>\n",
       "      <th>38</th>\n",
       "      <td>ADITYA MANHAS</td>\n",
       "      <td>78</td>\n",
       "    </tr>\n",
       "    <tr>\n",
       "      <th>39</th>\n",
       "      <td>ADITYA SINGH</td>\n",
       "      <td>97</td>\n",
       "    </tr>\n",
       "  </tbody>\n",
       "</table>\n",
       "</div>"
      ],
      "text/plain": [
       "        Student Name  SOCIAL SCIENCE\n",
       "32     AASHNA PARMAR              94\n",
       "33  ADITYA CHOUDHARY              88\n",
       "36      ADITYA SINGH              95\n",
       "38     ADITYA MANHAS              78\n",
       "39      ADITYA SINGH              97"
      ]
     },
     "execution_count": 48,
     "metadata": {},
     "output_type": "execute_result"
    }
   ],
   "source": [
    "mask = sorted_df['Student Name'].isin(capitalized_name_list)\n",
    "filtered_df = final.loc[mask, :]\n",
    "filtered_df.head()\n"
   ]
  },
  {
   "cell_type": "code",
   "execution_count": 49,
   "metadata": {},
   "outputs": [
    {
     "name": "stdout",
     "output_type": "stream",
     "text": [
      "34\n"
     ]
    }
   ],
   "source": [
    "print(len(filtered_df))"
   ]
  },
  {
   "cell_type": "code",
   "execution_count": 51,
   "metadata": {},
   "outputs": [],
   "source": [
    "filtered_df.to_excel('filtered_data_b3.xlsx', index=False)"
   ]
  },
  {
   "cell_type": "code",
   "execution_count": 54,
   "metadata": {},
   "outputs": [
    {
     "name": "stdout",
     "output_type": "stream",
     "text": [
      "189\n"
     ]
    }
   ],
   "source": [
    "print(len(sorted_df))\n",
    "sorted_df.to_excel('sorted_data.xlsx', index=False)"
   ]
  }
 ],
 "metadata": {
  "kernelspec": {
   "display_name": "Python 3",
   "language": "python",
   "name": "python3"
  },
  "language_info": {
   "codemirror_mode": {
    "name": "ipython",
    "version": 3
   },
   "file_extension": ".py",
   "mimetype": "text/x-python",
   "name": "python",
   "nbconvert_exporter": "python",
   "pygments_lexer": "ipython3",
   "version": "3.10.11"
  },
  "orig_nbformat": 4
 },
 "nbformat": 4,
 "nbformat_minor": 2
}
